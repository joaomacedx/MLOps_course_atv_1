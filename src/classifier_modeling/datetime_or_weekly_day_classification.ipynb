{
 "cells": [
  {
   "cell_type": "code",
   "execution_count": 5,
   "metadata": {
    "metadata": {}
   },
   "outputs": [],
   "source": [
    "import pandas as pd"
   ]
  },
  {
   "cell_type": "code",
   "execution_count": 6,
   "metadata": {
    "metadata": {}
   },
   "outputs": [
    {
     "name": "stderr",
     "output_type": "stream",
     "text": [
      "[nltk_data] Downloading package stopwords to\n",
      "[nltk_data]     /home/joaomacedx/nltk_data...\n",
      "[nltk_data]   Package stopwords is already up-to-date!\n",
      "[nltk_data] Downloading package punkt to /home/joaomacedx/nltk_data...\n",
      "[nltk_data]   Package punkt is already up-to-date!\n"
     ]
    }
   ],
   "source": [
    "import nltk\n",
    "from sklearn.model_selection import train_test_split\n",
    "from sklearn.feature_extraction.text import TfidfVectorizer\n",
    "\n",
    "nltk.download('stopwords')\n",
    "nltk.download('punkt')\n",
    "from nltk.corpus import stopwords\n",
    "from nltk.tokenize import word_tokenize"
   ]
  },
  {
   "cell_type": "code",
   "execution_count": 7,
   "metadata": {
    "metadata": {}
   },
   "outputs": [],
   "source": [
    "data = {\n",
    "    'text': [\n",
    "        'Que horas são?',\n",
    "        'Qual é o dia hoje?',\n",
    "        'Me diga a hora, por favor',\n",
    "        'Que dia da semana é hoje?',\n",
    "        'Você sabe que horas são agora?',\n",
    "        'Qual é o dia da semana atual?',\n",
    "        'Que horas você tem?',\n",
    "        'Poderia me dizer o horário?',\n",
    "        'Que dia é hoje?',\n",
    "        'Hoje é segunda ou terça?',\n",
    "        'Preciso saber a hora.',\n",
    "        'Hoje é quarta-feira?',\n",
    "        'Que horas são exatamente agora?',\n",
    "        'Qual é o dia de amanhã?',\n",
    "        'Me informe o horário atual.',\n",
    "        'Estamos em que dia da semana?',\n",
    "        'Você tem a hora?',\n",
    "        'Que dia da semana será amanhã?',\n",
    "        'Qual é a hora certa?',\n",
    "        'Qual é o dia de hoje?',\n",
    "        'Poderia me informar a hora?',\n",
    "        'Hoje é que dia da semana?',\n",
    "        'Preciso da hora atual.',\n",
    "        'Que dia da semana foi ontem?'\n",
    "    ],\n",
    "    'label': [\n",
    "        'hora',\n",
    "        'dia_da_semana',\n",
    "        'hora',\n",
    "        'dia_da_semana',\n",
    "        'hora',\n",
    "        'dia_da_semana',\n",
    "        'hora',\n",
    "        'hora',\n",
    "        'dia_da_semana',\n",
    "        'dia_da_semana',\n",
    "        'hora',\n",
    "        'dia_da_semana',\n",
    "        'hora',\n",
    "        'dia_da_semana',\n",
    "        'hora',\n",
    "        'dia_da_semana',\n",
    "        'hora',\n",
    "        'dia_da_semana',\n",
    "        'hora',\n",
    "        'dia_da_semana',\n",
    "        'hora',\n",
    "        'dia_da_semana',\n",
    "        'hora',\n",
    "        'dia_da_semana'\n",
    "    ]\n",
    "}\n",
    "\n",
    "df = pd.DataFrame(data)"
   ]
  },
  {
   "cell_type": "code",
   "execution_count": 8,
   "metadata": {
    "metadata": {}
   },
   "outputs": [],
   "source": [
    "stop_words = set(stopwords.words('portuguese'))\n",
    "\n",
    "def preprocess(text):\n",
    "    words = word_tokenize(text.lower())\n",
    "    words = [word for word in words if word.isalnum()]\n",
    "    words = [word for word in words if word not in stop_words]\n",
    "    return ' '.join(words)\n",
    "\n",
    "df['cleaned_text'] = df['text'].apply(preprocess)"
   ]
  },
  {
   "cell_type": "code",
   "execution_count": 9,
   "metadata": {
    "metadata": {}
   },
   "outputs": [],
   "source": [
    "vectorizer = TfidfVectorizer()\n",
    "X = vectorizer.fit_transform(df['cleaned_text'])\n",
    "y = df['label']"
   ]
  },
  {
   "cell_type": "code",
   "execution_count": 10,
   "metadata": {
    "metadata": {}
   },
   "outputs": [
    {
     "name": "stdout",
     "output_type": "stream",
     "text": [
      "               precision    recall  f1-score   support\n",
      "\n",
      "dia_da_semana       1.00      1.00      1.00         2\n",
      "         hora       1.00      1.00      1.00         3\n",
      "\n",
      "     accuracy                           1.00         5\n",
      "    macro avg       1.00      1.00      1.00         5\n",
      " weighted avg       1.00      1.00      1.00         5\n",
      "\n",
      "Accuracy: 1.0\n"
     ]
    }
   ],
   "source": [
    "from sklearn.model_selection import train_test_split\n",
    "from sklearn.naive_bayes import MultinomialNB\n",
    "from sklearn.metrics import classification_report, accuracy_score\n",
    "\n",
    "X_train, X_test, y_train, y_test = train_test_split(X, y, test_size=0.2, random_state=42)\n",
    "\n",
    "model = MultinomialNB()\n",
    "model.fit(X_train, y_train)\n",
    "\n",
    "y_pred = model.predict(X_test)\n",
    "print(classification_report(y_test, y_pred))\n",
    "print('Accuracy:', accuracy_score(y_test, y_pred))"
   ]
  },
  {
   "cell_type": "code",
   "execution_count": 11,
   "metadata": {
    "metadata": {}
   },
   "outputs": [
    {
     "name": "stdout",
     "output_type": "stream",
     "text": [
      "dia_da_semana\n",
      "hora\n"
     ]
    }
   ],
   "source": [
    "def classify_question(question):\n",
    "    cleaned_question = preprocess(question)\n",
    "    vectorized_question = vectorizer.transform([cleaned_question])\n",
    "    prediction = model.predict(vectorized_question)\n",
    "    return prediction[0]\n",
    "\n",
    "# Testando a função\n",
    "print(classify_question('Qual é a data de hoje?'))\n",
    "print(classify_question('Você pode me dizer a hora?'))"
   ]
  },
  {
   "cell_type": "code",
   "execution_count": 12,
   "metadata": {
    "metadata": {}
   },
   "outputs": [],
   "source": [
    "import pickle"
   ]
  },
  {
   "cell_type": "code",
   "execution_count": 13,
   "metadata": {
    "metadata": {}
   },
   "outputs": [],
   "source": [
    "\n",
    "# Salvar o modelo\n",
    "with open('modelo_classificador.pkl', 'wb') as model_file:\n",
    "    pickle.dump(model, model_file)\n",
    "\n",
    "# Salvar o vetor de características\n",
    "with open('vectorizer.pkl', 'wb') as vectorizer_file:\n",
    "    pickle.dump(vectorizer, vectorizer_file)"
   ]
  },
  {
   "cell_type": "code",
   "execution_count": 15,
   "metadata": {
    "metadata": {}
   },
   "outputs": [],
   "source": [
    "# Carregar o modelo\n",
    "with open('modelo_classificador.pkl', 'rb') as model_file:\n",
    "    loaded_model = pickle.load(model_file)\n",
    "\n",
    "# Carregar o vetor de características\n",
    "with open('vectorizer.pkl', 'rb') as vectorizer_file:\n",
    "    loaded_vectorizer = pickle.load(vectorizer_file)"
   ]
  },
  {
   "cell_type": "code",
   "execution_count": null,
   "metadata": {
    "metadata": {}
   },
   "outputs": [
    {
     "name": "stdout",
     "output_type": "stream",
     "text": [
      "dia_da_semana\n",
      "hora\n"
     ]
    }
   ],
   "source": [
    "def classify_question(question, model, vectorizer):\n",
    "    cleaned_question = preprocess(question)\n",
    "    vectorized_question = vectorizer.transform([cleaned_question])\n",
    "    prediction = model.predict(vectorized_question)\n",
    "    return prediction[0]\n",
    "\n",
    "# Testando a função com o modelo carregado\n",
    "print(classify_question('Qual é a data de hoje?', loaded_model, loaded_vectorizer))\n",
    "print(classify_question('Você pode me dizer a hora?', loaded_model, loaded_vectorizer))"
   ]
  },
  {
   "cell_type": "code",
   "execution_count": null,
   "metadata": {},
   "outputs": [],
   "source": []
  }
 ],
 "metadata": {
  "kernelspec": {
   "display_name": "MLOps_course_atv_1",
   "language": "python",
   "name": "python3"
  },
  "language_info": {
   "codemirror_mode": {
    "name": "ipython",
    "version": 3
   },
   "file_extension": ".py",
   "mimetype": "text/x-python",
   "name": "python",
   "nbconvert_exporter": "python",
   "pygments_lexer": "ipython3",
   "version": "3.12.3"
  }
 },
 "nbformat": 4,
 "nbformat_minor": 2
}
